{
 "cells": [
  {
   "cell_type": "code",
   "execution_count": 1,
   "id": "8e17ff45",
   "metadata": {},
   "outputs": [],
   "source": [
    "import pandas as pd \n",
    "import numpy as np\n",
    "import matplotlib.pyplot as plt\n",
    "%matplotlib inline \n",
    "import tensorflow\n",
    "from tensorflow import keras"
   ]
  },
  {
   "cell_type": "code",
   "execution_count": 4,
   "id": "c8b2f9df",
   "metadata": {},
   "outputs": [],
   "source": [
    "from sklearn.model_selection import train_test_split\n",
    "from sklearn.preprocessing import StandardScaler"
   ]
  },
  {
   "cell_type": "code",
   "execution_count": 2,
   "id": "8ebd9f8b",
   "metadata": {},
   "outputs": [
    {
     "data": {
      "text/html": [
       "<div>\n",
       "<style scoped>\n",
       "    .dataframe tbody tr th:only-of-type {\n",
       "        vertical-align: middle;\n",
       "    }\n",
       "\n",
       "    .dataframe tbody tr th {\n",
       "        vertical-align: top;\n",
       "    }\n",
       "\n",
       "    .dataframe thead th {\n",
       "        text-align: right;\n",
       "    }\n",
       "</style>\n",
       "<table border=\"1\" class=\"dataframe\">\n",
       "  <thead>\n",
       "    <tr style=\"text-align: right;\">\n",
       "      <th></th>\n",
       "      <th>Time</th>\n",
       "      <th>V1</th>\n",
       "      <th>V2</th>\n",
       "      <th>V3</th>\n",
       "      <th>V4</th>\n",
       "      <th>V5</th>\n",
       "      <th>V6</th>\n",
       "      <th>V7</th>\n",
       "      <th>V8</th>\n",
       "      <th>V9</th>\n",
       "      <th>...</th>\n",
       "      <th>V21</th>\n",
       "      <th>V22</th>\n",
       "      <th>V23</th>\n",
       "      <th>V24</th>\n",
       "      <th>V25</th>\n",
       "      <th>V26</th>\n",
       "      <th>V27</th>\n",
       "      <th>V28</th>\n",
       "      <th>Amount</th>\n",
       "      <th>Class</th>\n",
       "    </tr>\n",
       "  </thead>\n",
       "  <tbody>\n",
       "    <tr>\n",
       "      <th>0</th>\n",
       "      <td>0.0</td>\n",
       "      <td>-1.359807</td>\n",
       "      <td>-0.072781</td>\n",
       "      <td>2.536347</td>\n",
       "      <td>1.378155</td>\n",
       "      <td>-0.338321</td>\n",
       "      <td>0.462388</td>\n",
       "      <td>0.239599</td>\n",
       "      <td>0.098698</td>\n",
       "      <td>0.363787</td>\n",
       "      <td>...</td>\n",
       "      <td>-0.018307</td>\n",
       "      <td>0.277838</td>\n",
       "      <td>-0.110474</td>\n",
       "      <td>0.066928</td>\n",
       "      <td>0.128539</td>\n",
       "      <td>-0.189115</td>\n",
       "      <td>0.133558</td>\n",
       "      <td>-0.021053</td>\n",
       "      <td>149.62</td>\n",
       "      <td>0</td>\n",
       "    </tr>\n",
       "    <tr>\n",
       "      <th>1</th>\n",
       "      <td>0.0</td>\n",
       "      <td>1.191857</td>\n",
       "      <td>0.266151</td>\n",
       "      <td>0.166480</td>\n",
       "      <td>0.448154</td>\n",
       "      <td>0.060018</td>\n",
       "      <td>-0.082361</td>\n",
       "      <td>-0.078803</td>\n",
       "      <td>0.085102</td>\n",
       "      <td>-0.255425</td>\n",
       "      <td>...</td>\n",
       "      <td>-0.225775</td>\n",
       "      <td>-0.638672</td>\n",
       "      <td>0.101288</td>\n",
       "      <td>-0.339846</td>\n",
       "      <td>0.167170</td>\n",
       "      <td>0.125895</td>\n",
       "      <td>-0.008983</td>\n",
       "      <td>0.014724</td>\n",
       "      <td>2.69</td>\n",
       "      <td>0</td>\n",
       "    </tr>\n",
       "    <tr>\n",
       "      <th>2</th>\n",
       "      <td>1.0</td>\n",
       "      <td>-1.358354</td>\n",
       "      <td>-1.340163</td>\n",
       "      <td>1.773209</td>\n",
       "      <td>0.379780</td>\n",
       "      <td>-0.503198</td>\n",
       "      <td>1.800499</td>\n",
       "      <td>0.791461</td>\n",
       "      <td>0.247676</td>\n",
       "      <td>-1.514654</td>\n",
       "      <td>...</td>\n",
       "      <td>0.247998</td>\n",
       "      <td>0.771679</td>\n",
       "      <td>0.909412</td>\n",
       "      <td>-0.689281</td>\n",
       "      <td>-0.327642</td>\n",
       "      <td>-0.139097</td>\n",
       "      <td>-0.055353</td>\n",
       "      <td>-0.059752</td>\n",
       "      <td>378.66</td>\n",
       "      <td>0</td>\n",
       "    </tr>\n",
       "    <tr>\n",
       "      <th>3</th>\n",
       "      <td>1.0</td>\n",
       "      <td>-0.966272</td>\n",
       "      <td>-0.185226</td>\n",
       "      <td>1.792993</td>\n",
       "      <td>-0.863291</td>\n",
       "      <td>-0.010309</td>\n",
       "      <td>1.247203</td>\n",
       "      <td>0.237609</td>\n",
       "      <td>0.377436</td>\n",
       "      <td>-1.387024</td>\n",
       "      <td>...</td>\n",
       "      <td>-0.108300</td>\n",
       "      <td>0.005274</td>\n",
       "      <td>-0.190321</td>\n",
       "      <td>-1.175575</td>\n",
       "      <td>0.647376</td>\n",
       "      <td>-0.221929</td>\n",
       "      <td>0.062723</td>\n",
       "      <td>0.061458</td>\n",
       "      <td>123.50</td>\n",
       "      <td>0</td>\n",
       "    </tr>\n",
       "    <tr>\n",
       "      <th>4</th>\n",
       "      <td>2.0</td>\n",
       "      <td>-1.158233</td>\n",
       "      <td>0.877737</td>\n",
       "      <td>1.548718</td>\n",
       "      <td>0.403034</td>\n",
       "      <td>-0.407193</td>\n",
       "      <td>0.095921</td>\n",
       "      <td>0.592941</td>\n",
       "      <td>-0.270533</td>\n",
       "      <td>0.817739</td>\n",
       "      <td>...</td>\n",
       "      <td>-0.009431</td>\n",
       "      <td>0.798278</td>\n",
       "      <td>-0.137458</td>\n",
       "      <td>0.141267</td>\n",
       "      <td>-0.206010</td>\n",
       "      <td>0.502292</td>\n",
       "      <td>0.219422</td>\n",
       "      <td>0.215153</td>\n",
       "      <td>69.99</td>\n",
       "      <td>0</td>\n",
       "    </tr>\n",
       "  </tbody>\n",
       "</table>\n",
       "<p>5 rows × 31 columns</p>\n",
       "</div>"
      ],
      "text/plain": [
       "   Time        V1        V2        V3        V4        V5        V6        V7  \\\n",
       "0   0.0 -1.359807 -0.072781  2.536347  1.378155 -0.338321  0.462388  0.239599   \n",
       "1   0.0  1.191857  0.266151  0.166480  0.448154  0.060018 -0.082361 -0.078803   \n",
       "2   1.0 -1.358354 -1.340163  1.773209  0.379780 -0.503198  1.800499  0.791461   \n",
       "3   1.0 -0.966272 -0.185226  1.792993 -0.863291 -0.010309  1.247203  0.237609   \n",
       "4   2.0 -1.158233  0.877737  1.548718  0.403034 -0.407193  0.095921  0.592941   \n",
       "\n",
       "         V8        V9  ...       V21       V22       V23       V24       V25  \\\n",
       "0  0.098698  0.363787  ... -0.018307  0.277838 -0.110474  0.066928  0.128539   \n",
       "1  0.085102 -0.255425  ... -0.225775 -0.638672  0.101288 -0.339846  0.167170   \n",
       "2  0.247676 -1.514654  ...  0.247998  0.771679  0.909412 -0.689281 -0.327642   \n",
       "3  0.377436 -1.387024  ... -0.108300  0.005274 -0.190321 -1.175575  0.647376   \n",
       "4 -0.270533  0.817739  ... -0.009431  0.798278 -0.137458  0.141267 -0.206010   \n",
       "\n",
       "        V26       V27       V28  Amount  Class  \n",
       "0 -0.189115  0.133558 -0.021053  149.62      0  \n",
       "1  0.125895 -0.008983  0.014724    2.69      0  \n",
       "2 -0.139097 -0.055353 -0.059752  378.66      0  \n",
       "3 -0.221929  0.062723  0.061458  123.50      0  \n",
       "4  0.502292  0.219422  0.215153   69.99      0  \n",
       "\n",
       "[5 rows x 31 columns]"
      ]
     },
     "execution_count": 2,
     "metadata": {},
     "output_type": "execute_result"
    }
   ],
   "source": [
    "df=pd.read_csv('creditcard.csv')\n",
    "df.head()"
   ]
  },
  {
   "cell_type": "code",
   "execution_count": 3,
   "id": "82f381e3",
   "metadata": {},
   "outputs": [
    {
     "data": {
      "text/plain": [
       "(284807, 31)"
      ]
     },
     "execution_count": 3,
     "metadata": {},
     "output_type": "execute_result"
    }
   ],
   "source": [
    "df.shape"
   ]
  },
  {
   "cell_type": "code",
   "execution_count": 5,
   "id": "382ba053",
   "metadata": {},
   "outputs": [
    {
     "name": "stdout",
     "output_type": "stream",
     "text": [
      "2.5.0\n"
     ]
    }
   ],
   "source": [
    "print(tensorflow.__version__)"
   ]
  },
  {
   "cell_type": "code",
   "execution_count": 6,
   "id": "de1629e7",
   "metadata": {},
   "outputs": [
    {
     "data": {
      "text/plain": [
       "Time      0\n",
       "V1        0\n",
       "V2        0\n",
       "V3        0\n",
       "V4        0\n",
       "V5        0\n",
       "V6        0\n",
       "V7        0\n",
       "V8        0\n",
       "V9        0\n",
       "V10       0\n",
       "V11       0\n",
       "V12       0\n",
       "V13       0\n",
       "V14       0\n",
       "V15       0\n",
       "V16       0\n",
       "V17       0\n",
       "V18       0\n",
       "V19       0\n",
       "V20       0\n",
       "V21       0\n",
       "V22       0\n",
       "V23       0\n",
       "V24       0\n",
       "V25       0\n",
       "V26       0\n",
       "V27       0\n",
       "V28       0\n",
       "Amount    0\n",
       "Class     0\n",
       "dtype: int64"
      ]
     },
     "execution_count": 6,
     "metadata": {},
     "output_type": "execute_result"
    }
   ],
   "source": [
    "df.isnull().sum()"
   ]
  },
  {
   "cell_type": "code",
   "execution_count": 7,
   "id": "dccbda70",
   "metadata": {},
   "outputs": [
    {
     "name": "stdout",
     "output_type": "stream",
     "text": [
      "<class 'pandas.core.frame.DataFrame'>\n",
      "RangeIndex: 284807 entries, 0 to 284806\n",
      "Data columns (total 31 columns):\n",
      " #   Column  Non-Null Count   Dtype  \n",
      "---  ------  --------------   -----  \n",
      " 0   Time    284807 non-null  float64\n",
      " 1   V1      284807 non-null  float64\n",
      " 2   V2      284807 non-null  float64\n",
      " 3   V3      284807 non-null  float64\n",
      " 4   V4      284807 non-null  float64\n",
      " 5   V5      284807 non-null  float64\n",
      " 6   V6      284807 non-null  float64\n",
      " 7   V7      284807 non-null  float64\n",
      " 8   V8      284807 non-null  float64\n",
      " 9   V9      284807 non-null  float64\n",
      " 10  V10     284807 non-null  float64\n",
      " 11  V11     284807 non-null  float64\n",
      " 12  V12     284807 non-null  float64\n",
      " 13  V13     284807 non-null  float64\n",
      " 14  V14     284807 non-null  float64\n",
      " 15  V15     284807 non-null  float64\n",
      " 16  V16     284807 non-null  float64\n",
      " 17  V17     284807 non-null  float64\n",
      " 18  V18     284807 non-null  float64\n",
      " 19  V19     284807 non-null  float64\n",
      " 20  V20     284807 non-null  float64\n",
      " 21  V21     284807 non-null  float64\n",
      " 22  V22     284807 non-null  float64\n",
      " 23  V23     284807 non-null  float64\n",
      " 24  V24     284807 non-null  float64\n",
      " 25  V25     284807 non-null  float64\n",
      " 26  V26     284807 non-null  float64\n",
      " 27  V27     284807 non-null  float64\n",
      " 28  V28     284807 non-null  float64\n",
      " 29  Amount  284807 non-null  float64\n",
      " 30  Class   284807 non-null  int64  \n",
      "dtypes: float64(30), int64(1)\n",
      "memory usage: 67.4 MB\n"
     ]
    }
   ],
   "source": [
    "df.info()"
   ]
  },
  {
   "cell_type": "code",
   "execution_count": 11,
   "id": "d7a15ca6",
   "metadata": {},
   "outputs": [
    {
     "data": {
      "text/plain": [
       "0    284315\n",
       "1       492\n",
       "Name: Class, dtype: int64"
      ]
     },
     "execution_count": 11,
     "metadata": {},
     "output_type": "execute_result"
    }
   ],
   "source": [
    "df['Class'].value_counts()"
   ]
  },
  {
   "cell_type": "markdown",
   "id": "8c58ee42",
   "metadata": {},
   "source": [
    "## As we can see that the dataset is highly imbalanced "
   ]
  },
  {
   "cell_type": "code",
   "execution_count": 15,
   "id": "9f29c1f4",
   "metadata": {},
   "outputs": [],
   "source": [
    "non_fraud=df[df['Class']==0]\n",
    "fraud=df[df['Class']==1]"
   ]
  },
  {
   "cell_type": "code",
   "execution_count": 17,
   "id": "c7fa0b00",
   "metadata": {},
   "outputs": [
    {
     "data": {
      "text/plain": [
       "((284315, 31), (492, 31))"
      ]
     },
     "execution_count": 17,
     "metadata": {},
     "output_type": "execute_result"
    }
   ],
   "source": [
    "non_fraud.shape,fraud.shape"
   ]
  },
  {
   "cell_type": "code",
   "execution_count": 18,
   "id": "25a15b80",
   "metadata": {},
   "outputs": [
    {
     "data": {
      "text/plain": [
       "((492, 31), (492, 31))"
      ]
     },
     "execution_count": 18,
     "metadata": {},
     "output_type": "execute_result"
    }
   ],
   "source": [
    "non_fraud=non_fraud.sample(fraud.shape[0])\n",
    "non_fraud.shape,fraud.shape"
   ]
  },
  {
   "cell_type": "code",
   "execution_count": 20,
   "id": "ad7a067e",
   "metadata": {},
   "outputs": [
    {
     "data": {
      "text/plain": [
       "1    492\n",
       "0    492\n",
       "Name: Class, dtype: int64"
      ]
     },
     "execution_count": 20,
     "metadata": {},
     "output_type": "execute_result"
    }
   ],
   "source": [
    "data=fraud.append(non_fraud,ignore_index=True)\n",
    "data['Class'].value_counts()"
   ]
  },
  {
   "cell_type": "code",
   "execution_count": 21,
   "id": "23c86d81",
   "metadata": {},
   "outputs": [],
   "source": [
    "x=data.drop('Class',axis=1)\n",
    "y=data['Class']"
   ]
  },
  {
   "cell_type": "code",
   "execution_count": 22,
   "id": "64f06485",
   "metadata": {},
   "outputs": [],
   "source": [
    "x_train,x_test,y_train,y_test=train_test_split(x,y,test_size=0.2,stratify=y,random_state=0)"
   ]
  },
  {
   "cell_type": "code",
   "execution_count": 23,
   "id": "a31cdcde",
   "metadata": {},
   "outputs": [
    {
     "data": {
      "text/plain": [
       "((787, 30), (197, 30))"
      ]
     },
     "execution_count": 23,
     "metadata": {},
     "output_type": "execute_result"
    }
   ],
   "source": [
    "x_train.shape,x_test.shape"
   ]
  },
  {
   "cell_type": "code",
   "execution_count": 24,
   "id": "70f7ff1c",
   "metadata": {},
   "outputs": [],
   "source": [
    "scaler=StandardScaler()"
   ]
  },
  {
   "cell_type": "code",
   "execution_count": 25,
   "id": "970d0fc4",
   "metadata": {},
   "outputs": [],
   "source": [
    "x_train=scaler.fit_transform(x_train)\n",
    "x_test=scaler.transform(x_test)"
   ]
  },
  {
   "cell_type": "code",
   "execution_count": 26,
   "id": "8312892a",
   "metadata": {},
   "outputs": [],
   "source": [
    "y_train=y_train.to_numpy()\n",
    "y_test=y_test.to_numpy()"
   ]
  },
  {
   "cell_type": "code",
   "execution_count": 27,
   "id": "b03bcb13",
   "metadata": {},
   "outputs": [],
   "source": [
    "x_train=x_train.reshape(x_train.shape[0],x_train.shape[1],1)\n",
    "x_test=x_test.reshape(x_test.shape[0],x_test.shape[1],1)"
   ]
  },
  {
   "cell_type": "markdown",
   "id": "de7aa348",
   "metadata": {},
   "source": [
    "## Building the model"
   ]
  },
  {
   "cell_type": "code",
   "execution_count": null,
   "id": "59da166d",
   "metadata": {},
   "outputs": [],
   "source": []
  },
  {
   "cell_type": "code",
   "execution_count": 32,
   "id": "2cdc8d1a",
   "metadata": {},
   "outputs": [],
   "source": [
    "model=keras.Sequential()\n",
    "\n",
    "model.add(keras.layers.Conv1D(32,2,activation='relu',input_shape=x_train[0].shape))\n",
    "model.add(keras.layers.BatchNormalization())\n",
    "model.add(keras.layers.Dropout(0.2))\n",
    "\n",
    "model.add(keras.layers.Conv1D(64,2,activation='relu'))\n",
    "model.add(keras.layers.BatchNormalization())\n",
    "model.add(keras.layers.Dropout(0.5))\n",
    "\n",
    "model.add(keras.layers.Flatten())\n",
    "model.add(keras.layers.Dense(64,activation='relu'))\n",
    "model.add(keras.layers.Dropout(0.5))\n",
    "\n",
    "model.add(keras.layers.Dense(1,activation='sigmoid'))"
   ]
  },
  {
   "cell_type": "code",
   "execution_count": 33,
   "id": "c44757a9",
   "metadata": {},
   "outputs": [
    {
     "name": "stdout",
     "output_type": "stream",
     "text": [
      "Model: \"sequential_2\"\n",
      "_________________________________________________________________\n",
      "Layer (type)                 Output Shape              Param #   \n",
      "=================================================================\n",
      "conv1d_3 (Conv1D)            (None, 29, 32)            96        \n",
      "_________________________________________________________________\n",
      "batch_normalization_2 (Batch (None, 29, 32)            128       \n",
      "_________________________________________________________________\n",
      "dropout_2 (Dropout)          (None, 29, 32)            0         \n",
      "_________________________________________________________________\n",
      "conv1d_4 (Conv1D)            (None, 28, 64)            4160      \n",
      "_________________________________________________________________\n",
      "batch_normalization_3 (Batch (None, 28, 64)            256       \n",
      "_________________________________________________________________\n",
      "dropout_3 (Dropout)          (None, 28, 64)            0         \n",
      "_________________________________________________________________\n",
      "flatten_1 (Flatten)          (None, 1792)              0         \n",
      "_________________________________________________________________\n",
      "dense_1 (Dense)              (None, 64)                114752    \n",
      "_________________________________________________________________\n",
      "dropout_4 (Dropout)          (None, 64)                0         \n",
      "_________________________________________________________________\n",
      "dense_2 (Dense)              (None, 1)                 65        \n",
      "=================================================================\n",
      "Total params: 119,457\n",
      "Trainable params: 119,265\n",
      "Non-trainable params: 192\n",
      "_________________________________________________________________\n"
     ]
    }
   ],
   "source": [
    "model.summary()"
   ]
  },
  {
   "cell_type": "code",
   "execution_count": 34,
   "id": "a7d3ba93",
   "metadata": {},
   "outputs": [],
   "source": [
    "model.compile(optimizer='adam',loss='binary_crossentropy',metrics=['accuracy'])"
   ]
  },
  {
   "cell_type": "code",
   "execution_count": 35,
   "id": "b7755b0d",
   "metadata": {},
   "outputs": [
    {
     "name": "stdout",
     "output_type": "stream",
     "text": [
      "Epoch 1/30\n",
      "25/25 [==============================] - 3s 26ms/step - loss: 0.6020 - accuracy: 0.8272 - val_loss: 0.5162 - val_accuracy: 0.6751\n",
      "Epoch 2/30\n",
      "25/25 [==============================] - 0s 10ms/step - loss: 0.2242 - accuracy: 0.9276 - val_loss: 0.5386 - val_accuracy: 0.5279\n",
      "Epoch 3/30\n",
      "25/25 [==============================] - 0s 8ms/step - loss: 0.2006 - accuracy: 0.9276 - val_loss: 0.5966 - val_accuracy: 0.5127\n",
      "Epoch 4/30\n",
      "25/25 [==============================] - 0s 8ms/step - loss: 0.1522 - accuracy: 0.9492 - val_loss: 0.5295 - val_accuracy: 0.5533\n",
      "Epoch 5/30\n",
      "25/25 [==============================] - 0s 8ms/step - loss: 0.1547 - accuracy: 0.9492 - val_loss: 0.7214 - val_accuracy: 0.5127\n",
      "Epoch 6/30\n",
      "25/25 [==============================] - 0s 8ms/step - loss: 0.1613 - accuracy: 0.9504 - val_loss: 0.5894 - val_accuracy: 0.5431\n",
      "Epoch 7/30\n",
      "25/25 [==============================] - 0s 8ms/step - loss: 0.1444 - accuracy: 0.9492 - val_loss: 0.5077 - val_accuracy: 0.5939\n",
      "Epoch 8/30\n",
      "25/25 [==============================] - 0s 9ms/step - loss: 0.1472 - accuracy: 0.9479 - val_loss: 0.5605 - val_accuracy: 0.5635\n",
      "Epoch 9/30\n",
      "25/25 [==============================] - 0s 9ms/step - loss: 0.1218 - accuracy: 0.9555 - val_loss: 0.3989 - val_accuracy: 0.7868\n",
      "Epoch 10/30\n",
      "25/25 [==============================] - 0s 8ms/step - loss: 0.1186 - accuracy: 0.9555 - val_loss: 0.4128 - val_accuracy: 0.7614\n",
      "Epoch 11/30\n",
      "25/25 [==============================] - 0s 9ms/step - loss: 0.1033 - accuracy: 0.9581 - val_loss: 0.3298 - val_accuracy: 0.8629\n",
      "Epoch 12/30\n",
      "25/25 [==============================] - 0s 9ms/step - loss: 0.1366 - accuracy: 0.9543 - val_loss: 0.3960 - val_accuracy: 0.8071\n",
      "Epoch 13/30\n",
      "25/25 [==============================] - 0s 9ms/step - loss: 0.1188 - accuracy: 0.9568 - val_loss: 0.3102 - val_accuracy: 0.8680\n",
      "Epoch 14/30\n",
      "25/25 [==============================] - 0s 8ms/step - loss: 0.1143 - accuracy: 0.9606 - val_loss: 0.2384 - val_accuracy: 0.8985\n",
      "Epoch 15/30\n",
      "25/25 [==============================] - 0s 8ms/step - loss: 0.1077 - accuracy: 0.9619 - val_loss: 0.2609 - val_accuracy: 0.8985\n",
      "Epoch 16/30\n",
      "25/25 [==============================] - 0s 8ms/step - loss: 0.1141 - accuracy: 0.9555 - val_loss: 0.2499 - val_accuracy: 0.9036\n",
      "Epoch 17/30\n",
      "25/25 [==============================] - 0s 8ms/step - loss: 0.0980 - accuracy: 0.9695 - val_loss: 0.2205 - val_accuracy: 0.9137\n",
      "Epoch 18/30\n",
      "25/25 [==============================] - 0s 8ms/step - loss: 0.0859 - accuracy: 0.9720 - val_loss: 0.2212 - val_accuracy: 0.8985\n",
      "Epoch 19/30\n",
      "25/25 [==============================] - 0s 9ms/step - loss: 0.1102 - accuracy: 0.9657 - val_loss: 0.2399 - val_accuracy: 0.8934\n",
      "Epoch 20/30\n",
      "25/25 [==============================] - 0s 9ms/step - loss: 0.0835 - accuracy: 0.9682 - val_loss: 0.2109 - val_accuracy: 0.9086\n",
      "Epoch 21/30\n",
      "25/25 [==============================] - 0s 8ms/step - loss: 0.1030 - accuracy: 0.9682 - val_loss: 0.2213 - val_accuracy: 0.9036\n",
      "Epoch 22/30\n",
      "25/25 [==============================] - 0s 8ms/step - loss: 0.0969 - accuracy: 0.9657 - val_loss: 0.2314 - val_accuracy: 0.9137\n",
      "Epoch 23/30\n",
      "25/25 [==============================] - 0s 8ms/step - loss: 0.0935 - accuracy: 0.9619 - val_loss: 0.2386 - val_accuracy: 0.9188\n",
      "Epoch 24/30\n",
      "25/25 [==============================] - 0s 8ms/step - loss: 0.1054 - accuracy: 0.9581 - val_loss: 0.2600 - val_accuracy: 0.9137\n",
      "Epoch 25/30\n",
      "25/25 [==============================] - 0s 9ms/step - loss: 0.0756 - accuracy: 0.9759 - val_loss: 0.2467 - val_accuracy: 0.9239\n",
      "Epoch 26/30\n",
      "25/25 [==============================] - 0s 9ms/step - loss: 0.0942 - accuracy: 0.9657 - val_loss: 0.2624 - val_accuracy: 0.9340\n",
      "Epoch 27/30\n",
      "25/25 [==============================] - 0s 7ms/step - loss: 0.0807 - accuracy: 0.9708 - val_loss: 0.2682 - val_accuracy: 0.9137\n",
      "Epoch 28/30\n",
      "25/25 [==============================] - 0s 7ms/step - loss: 0.0861 - accuracy: 0.9657 - val_loss: 0.2659 - val_accuracy: 0.9188\n",
      "Epoch 29/30\n",
      "25/25 [==============================] - 0s 6ms/step - loss: 0.0759 - accuracy: 0.9746 - val_loss: 0.2605 - val_accuracy: 0.9188\n",
      "Epoch 30/30\n",
      "25/25 [==============================] - 0s 6ms/step - loss: 0.0838 - accuracy: 0.9657 - val_loss: 0.2593 - val_accuracy: 0.9239\n"
     ]
    }
   ],
   "source": [
    "model_history=model.fit(x_train,y_train,epochs=30,validation_data=(x_test,y_test),verbose=1)"
   ]
  },
  {
   "cell_type": "code",
   "execution_count": 36,
   "id": "ea881f49",
   "metadata": {},
   "outputs": [
    {
     "data": {
      "image/png": "[encoded data removed]",
      "text/plain": [
       "<Figure size 576x360 with 1 Axes>"
      ]
     },
     "metadata": {
      "needs_background": "light"
     },
     "output_type": "display_data"
    }
   ],
   "source": [
    "pd.DataFrame(model_history.history).plot(figsize=(8,5))\n",
    "plt.grid(True)\n",
    "plt.gca().set_ylim(0,1)\n",
    "plt.show()"
   ]
  },
  {
   "cell_type": "code",
   "execution_count": 37,
   "id": "f33f7f10",
   "metadata": {},
   "outputs": [],
   "source": [
    "## Adding Pooling layer"
   ]
  },
  {
   "cell_type": "code",
   "execution_count": 38,
   "id": "38a46613",
   "metadata": {},
   "outputs": [],
   "source": [
    "model1=keras.Sequential()\n",
    "\n",
    "model1.add(keras.layers.Conv1D(32,2,activation='relu',input_shape=x_train[0].shape))\n",
    "model1.add(keras.layers.BatchNormalization())\n",
    "model1.add(keras.layers.MaxPool1D(2))\n",
    "model1.add(keras.layers.Dropout(0.2))\n",
    "\n",
    "model1.add(keras.layers.Conv1D(64,2,activation='relu'))\n",
    "model1.add(keras.layers.BatchNormalization())\n",
    "model1.add(keras.layers.MaxPool1D(2))\n",
    "model1.add(keras.layers.Dropout(0.5))\n",
    "\n",
    "model1.add(keras.layers.Flatten())\n",
    "model1.add(keras.layers.Dense(64,activation='relu'))\n",
    "model1.add(keras.layers.Dropout(0.5))\n",
    "\n",
    "model1.add(keras.layers.Dense(1,activation='sigmoid'))"
   ]
  },
  {
   "cell_type": "code",
   "execution_count": 39,
   "id": "f31cd0ef",
   "metadata": {},
   "outputs": [],
   "source": [
    "model1.compile(optimizer='adam',loss='binary_crossentropy',metrics=['accuracy'])"
   ]
  },
  {
   "cell_type": "code",
   "execution_count": 40,
   "id": "673d177b",
   "metadata": {},
   "outputs": [
    {
     "name": "stdout",
     "output_type": "stream",
     "text": [
      "Epoch 1/50\n",
      "25/25 [==============================] - 2s 24ms/step - loss: 0.6121 - accuracy: 0.7598 - val_loss: 0.5523 - val_accuracy: 0.8274\n",
      "Epoch 2/50\n",
      "25/25 [==============================] - 0s 7ms/step - loss: 0.3388 - accuracy: 0.8780 - val_loss: 0.5218 - val_accuracy: 0.8426\n",
      "Epoch 3/50\n",
      "25/25 [==============================] - 0s 7ms/step - loss: 0.2918 - accuracy: 0.8895 - val_loss: 0.4876 - val_accuracy: 0.8680\n",
      "Epoch 4/50\n",
      "25/25 [==============================] - 0s 7ms/step - loss: 0.2478 - accuracy: 0.8996 - val_loss: 0.4466 - val_accuracy: 0.8985\n",
      "Epoch 5/50\n",
      "25/25 [==============================] - 0s 7ms/step - loss: 0.2290 - accuracy: 0.9161 - val_loss: 0.4139 - val_accuracy: 0.8934\n",
      "Epoch 6/50\n",
      "25/25 [==============================] - 0s 8ms/step - loss: 0.2085 - accuracy: 0.9327 - val_loss: 0.3776 - val_accuracy: 0.8934\n",
      "Epoch 7/50\n",
      "25/25 [==============================] - 0s 7ms/step - loss: 0.2167 - accuracy: 0.9149 - val_loss: 0.3361 - val_accuracy: 0.8985\n",
      "Epoch 8/50\n",
      "25/25 [==============================] - 0s 7ms/step - loss: 0.1996 - accuracy: 0.9352 - val_loss: 0.3083 - val_accuracy: 0.9036\n",
      "Epoch 9/50\n",
      "25/25 [==============================] - 0s 8ms/step - loss: 0.1856 - accuracy: 0.9377 - val_loss: 0.2866 - val_accuracy: 0.9086\n",
      "Epoch 10/50\n",
      "25/25 [==============================] - 0s 7ms/step - loss: 0.1812 - accuracy: 0.9403 - val_loss: 0.2636 - val_accuracy: 0.9086\n",
      "Epoch 11/50\n",
      "25/25 [==============================] - 0s 7ms/step - loss: 0.1805 - accuracy: 0.9428 - val_loss: 0.2429 - val_accuracy: 0.9086\n",
      "Epoch 12/50\n",
      "25/25 [==============================] - 0s 7ms/step - loss: 0.1555 - accuracy: 0.9479 - val_loss: 0.2383 - val_accuracy: 0.9086\n",
      "Epoch 13/50\n",
      "25/25 [==============================] - 0s 7ms/step - loss: 0.1466 - accuracy: 0.9466 - val_loss: 0.2305 - val_accuracy: 0.9086\n",
      "Epoch 14/50\n",
      "25/25 [==============================] - 0s 7ms/step - loss: 0.1496 - accuracy: 0.9492 - val_loss: 0.2284 - val_accuracy: 0.9086\n",
      "Epoch 15/50\n",
      "25/25 [==============================] - 0s 7ms/step - loss: 0.1644 - accuracy: 0.9466 - val_loss: 0.2294 - val_accuracy: 0.9086\n",
      "Epoch 16/50\n",
      "25/25 [==============================] - 0s 8ms/step - loss: 0.1565 - accuracy: 0.9441 - val_loss: 0.2208 - val_accuracy: 0.9086\n",
      "Epoch 17/50\n",
      "25/25 [==============================] - 0s 7ms/step - loss: 0.1609 - accuracy: 0.9428 - val_loss: 0.2231 - val_accuracy: 0.9137\n",
      "Epoch 18/50\n",
      "25/25 [==============================] - 0s 7ms/step - loss: 0.1674 - accuracy: 0.9403 - val_loss: 0.2238 - val_accuracy: 0.9137\n",
      "Epoch 19/50\n",
      "25/25 [==============================] - 0s 7ms/step - loss: 0.1429 - accuracy: 0.9479 - val_loss: 0.2300 - val_accuracy: 0.9086\n",
      "Epoch 20/50\n",
      "25/25 [==============================] - 0s 7ms/step - loss: 0.1289 - accuracy: 0.9530 - val_loss: 0.2328 - val_accuracy: 0.9086\n",
      "Epoch 21/50\n",
      "25/25 [==============================] - 0s 8ms/step - loss: 0.1285 - accuracy: 0.9492 - val_loss: 0.2383 - val_accuracy: 0.9036\n",
      "Epoch 22/50\n",
      "25/25 [==============================] - 0s 9ms/step - loss: 0.1379 - accuracy: 0.9619 - val_loss: 0.2390 - val_accuracy: 0.9036\n",
      "Epoch 23/50\n",
      "25/25 [==============================] - 0s 8ms/step - loss: 0.1623 - accuracy: 0.9466 - val_loss: 0.2390 - val_accuracy: 0.9036\n",
      "Epoch 24/50\n",
      "25/25 [==============================] - 0s 8ms/step - loss: 0.1428 - accuracy: 0.9517 - val_loss: 0.2510 - val_accuracy: 0.9036\n",
      "Epoch 25/50\n",
      "25/25 [==============================] - 0s 8ms/step - loss: 0.1436 - accuracy: 0.9479 - val_loss: 0.2528 - val_accuracy: 0.9036\n",
      "Epoch 26/50\n",
      "25/25 [==============================] - 0s 8ms/step - loss: 0.1238 - accuracy: 0.9568 - val_loss: 0.2543 - val_accuracy: 0.9036\n",
      "Epoch 27/50\n",
      "25/25 [==============================] - 0s 7ms/step - loss: 0.1236 - accuracy: 0.9517 - val_loss: 0.2485 - val_accuracy: 0.9086\n",
      "Epoch 28/50\n",
      "25/25 [==============================] - 0s 7ms/step - loss: 0.1287 - accuracy: 0.9555 - val_loss: 0.2445 - val_accuracy: 0.9086\n",
      "Epoch 29/50\n",
      "25/25 [==============================] - 0s 5ms/step - loss: 0.1338 - accuracy: 0.9428 - val_loss: 0.2510 - val_accuracy: 0.9086\n",
      "Epoch 30/50\n",
      "25/25 [==============================] - 0s 7ms/step - loss: 0.1303 - accuracy: 0.9530 - val_loss: 0.2325 - val_accuracy: 0.9086\n",
      "Epoch 31/50\n",
      "25/25 [==============================] - 0s 7ms/step - loss: 0.1291 - accuracy: 0.9530 - val_loss: 0.2397 - val_accuracy: 0.9086\n",
      "Epoch 32/50\n",
      "25/25 [==============================] - 0s 7ms/step - loss: 0.1307 - accuracy: 0.9517 - val_loss: 0.2491 - val_accuracy: 0.9086\n",
      "Epoch 33/50\n",
      "25/25 [==============================] - 0s 6ms/step - loss: 0.1165 - accuracy: 0.9555 - val_loss: 0.2404 - val_accuracy: 0.9086\n",
      "Epoch 34/50\n",
      "25/25 [==============================] - 0s 6ms/step - loss: 0.1331 - accuracy: 0.9517 - val_loss: 0.2265 - val_accuracy: 0.9086\n",
      "Epoch 35/50\n",
      "25/25 [==============================] - 0s 7ms/step - loss: 0.1184 - accuracy: 0.9593 - val_loss: 0.2330 - val_accuracy: 0.9086\n",
      "Epoch 36/50\n",
      "25/25 [==============================] - 0s 6ms/step - loss: 0.1075 - accuracy: 0.9581 - val_loss: 0.2412 - val_accuracy: 0.9086\n",
      "Epoch 37/50\n",
      "25/25 [==============================] - 0s 6ms/step - loss: 0.1252 - accuracy: 0.9555 - val_loss: 0.2478 - val_accuracy: 0.9086\n",
      "Epoch 38/50\n",
      "25/25 [==============================] - 0s 5ms/step - loss: 0.1071 - accuracy: 0.9568 - val_loss: 0.2455 - val_accuracy: 0.9036\n",
      "Epoch 39/50\n",
      "25/25 [==============================] - 0s 5ms/step - loss: 0.1175 - accuracy: 0.9555 - val_loss: 0.2562 - val_accuracy: 0.9036\n",
      "Epoch 40/50\n",
      "25/25 [==============================] - 0s 5ms/step - loss: 0.1011 - accuracy: 0.9632 - val_loss: 0.2551 - val_accuracy: 0.9036\n",
      "Epoch 41/50\n",
      "25/25 [==============================] - 0s 5ms/step - loss: 0.0877 - accuracy: 0.9746 - val_loss: 0.2705 - val_accuracy: 0.9036\n",
      "Epoch 42/50\n",
      "25/25 [==============================] - 0s 5ms/step - loss: 0.1107 - accuracy: 0.9670 - val_loss: 0.2649 - val_accuracy: 0.9036\n",
      "Epoch 43/50\n",
      "25/25 [==============================] - 0s 5ms/step - loss: 0.1136 - accuracy: 0.9619 - val_loss: 0.2631 - val_accuracy: 0.9036\n",
      "Epoch 44/50\n",
      "25/25 [==============================] - 0s 6ms/step - loss: 0.1242 - accuracy: 0.9593 - val_loss: 0.2515 - val_accuracy: 0.9036\n",
      "Epoch 45/50\n",
      "25/25 [==============================] - 0s 6ms/step - loss: 0.1077 - accuracy: 0.9632 - val_loss: 0.2600 - val_accuracy: 0.9036\n",
      "Epoch 46/50\n",
      "25/25 [==============================] - 0s 5ms/step - loss: 0.1153 - accuracy: 0.9568 - val_loss: 0.2542 - val_accuracy: 0.9036\n",
      "Epoch 47/50\n",
      "25/25 [==============================] - 0s 5ms/step - loss: 0.1007 - accuracy: 0.9657 - val_loss: 0.2751 - val_accuracy: 0.9036\n",
      "Epoch 48/50\n",
      "25/25 [==============================] - 0s 5ms/step - loss: 0.0969 - accuracy: 0.9632 - val_loss: 0.2676 - val_accuracy: 0.9036\n",
      "Epoch 49/50\n",
      "25/25 [==============================] - 0s 5ms/step - loss: 0.1064 - accuracy: 0.9619 - val_loss: 0.2820 - val_accuracy: 0.9036\n",
      "Epoch 50/50\n",
      "25/25 [==============================] - 0s 5ms/step - loss: 0.1126 - accuracy: 0.9632 - val_loss: 0.3009 - val_accuracy: 0.9036\n"
     ]
    }
   ],
   "source": [
    "model1_history=model1.fit(x_train,y_train,epochs=50,validation_data=(x_test,y_test),verbose=1)"
   ]
  },
  {
   "cell_type": "code",
   "execution_count": 41,
   "id": "649d84f7",
   "metadata": {},
   "outputs": [
    {
     "data": {
      "image/png": "[encoded data removed]",
      "text/plain": [
       "<Figure size 576x360 with 1 Axes>"
      ]
     },
     "metadata": {
      "needs_background": "light"
     },
     "output_type": "display_data"
    }
   ],
   "source": [
    "pd.DataFrame(model1_history.history).plot(figsize=(8,5))\n",
    "plt.grid(True)\n",
    "plt.gca().set_ylim(0,1)\n",
    "plt.show()"
   ]
  },
  {
   "cell_type": "code",
   "execution_count": 42,
   "id": "6620433c",
   "metadata": {},
   "outputs": [],
   "source": [
    "## it can be observed that both the loss and accuracy reach saturation and do not get altered anymore\n",
    "## Although it can be noted that because it is a small dataset, the pooling layer loose much of the information "
   ]
  },
  {
   "cell_type": "code",
   "execution_count": null,
   "id": "6b12f214",
   "metadata": {},
   "outputs": [],
   "source": []
  },
  {
   "cell_type": "code",
   "execution_count": null,
   "id": "c73292aa",
   "metadata": {},
   "outputs": [],
   "source": []
  }
 ],
 "metadata": {
  "kernelspec": {
   "display_name": "Python 3",
   "language": "python",
   "name": "python3"
  },
  "language_info": {
   "codemirror_mode": {
    "name": "ipython",
    "version": 3
   },
   "file_extension": ".py",
   "mimetype": "text/x-python",
   "name": "python",
   "nbconvert_exporter": "python",
   "pygments_lexer": "ipython3",
   "version": "3.9.6"
  }
 },
 "nbformat": 4,
 "nbformat_minor": 5
}
